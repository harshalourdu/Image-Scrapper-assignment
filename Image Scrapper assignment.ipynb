{
 "cells": [
  {
   "cell_type": "code",
   "execution_count": null,
   "metadata": {},
   "outputs": [],
   "source": [
    "# 1. Q1: Write a Python program to extract the video URL of the first five videos.\n",
    "\n",
    "from pytube import Channel\n",
    "\n",
    "# URL of the channel\n",
    "channel_url = \"https://www.youtube.com/@PW-Foundation/videos\"\n",
    "\n",
    "# Create a Channel object\n",
    "channel = Channel(channel_url)\n",
    "\n",
    "# Extract the video URLs of the first 5 videos\n",
    "video_urls = list(channel.video_urls)[:5]\n",
    "print(\"Video URLs of the first five videos:\")\n",
    "for url in video_urls:\n",
    "    print(url)\n"
   ]
  },
  {
   "cell_type": "code",
   "execution_count": null,
   "metadata": {},
   "outputs": [],
   "source": [
    "# 2.\n",
    "\n",
    "from pytube import Channel\n",
    "\n",
    "# URL of the channel\n",
    "channel_url = \"https://www.youtube.com/@PW-Foundation/videos\"\n",
    "\n",
    "# Create a Channel object\n",
    "channel = Channel(channel_url)\n",
    "\n",
    "# Extract the thumbnail URLs of the first 5 videos\n",
    "thumbnail_urls = [video.thumbnail_url for video in channel.videos][:5]\n",
    "print(\"Thumbnail URLs of the first five videos:\")\n",
    "for url in thumbnail_urls:\n",
    "    print(url)\n"
   ]
  },
  {
   "cell_type": "code",
   "execution_count": null,
   "metadata": {},
   "outputs": [],
   "source": [
    "# 3.\n",
    "\n",
    "from pytube import Channel\n",
    "\n",
    "# URL of the channel\n",
    "channel_url = \"https://www.youtube.com/@PW-Foundation/videos\"\n",
    "\n",
    "# Create a Channel object\n",
    "channel = Channel(channel_url)\n",
    "\n",
    "# Extract the titles of the first 5 videos\n",
    "titles = [video.title for video in channel.videos][:5]\n",
    "print(\"Titles of the first five videos:\")\n",
    "for title in titles:\n",
    "    print(title)\n"
   ]
  },
  {
   "cell_type": "code",
   "execution_count": null,
   "metadata": {},
   "outputs": [],
   "source": [
    "# 4.\n",
    "\n",
    "from pytube import Channel\n",
    "\n",
    "# URL of the channel\n",
    "channel_url = \"https://www.youtube.com/@PW-Foundation/videos\"\n",
    "\n",
    "# Create a Channel object\n",
    "channel = Channel(channel_url)\n",
    "\n",
    "# Extract the number of views for the first 5 videos\n",
    "views = [video.views for video in channel.videos][:5]\n",
    "print(\"Number of views of the first five videos:\")\n",
    "for view in views:\n",
    "    print(view)\n"
   ]
  },
  {
   "cell_type": "code",
   "execution_count": null,
   "metadata": {},
   "outputs": [],
   "source": [
    "# 5.\n",
    "\n",
    "from pytube import Channel\n",
    "\n",
    "# URL of the channel\n",
    "channel_url = \"https://www.youtube.com/@PW-Foundation/videos\"\n",
    "\n",
    "# Create a Channel object\n",
    "channel = Channel(channel_url)\n",
    "\n",
    "# Extract the time of posting for the first 5 videos\n",
    "publish_times = [video.publish_date for video in channel.videos][:5]\n",
    "print(\"Time of posting of the first five videos:\")\n",
    "for publish_time in publish_times:\n",
    "    print(publish_time)\n"
   ]
  }
 ],
 "metadata": {
  "kernelspec": {
   "display_name": "Python 3",
   "language": "python",
   "name": "python3"
  },
  "language_info": {
   "codemirror_mode": {
    "name": "ipython",
    "version": 3
   },
   "file_extension": ".py",
   "mimetype": "text/x-python",
   "name": "python",
   "nbconvert_exporter": "python",
   "pygments_lexer": "ipython3",
   "version": "3.11.9"
  }
 },
 "nbformat": 4,
 "nbformat_minor": 2
}
